{
 "cells": [
  {
   "cell_type": "code",
   "execution_count": 1,
   "metadata": {},
   "outputs": [
    {
     "name": "stdout",
     "output_type": "stream",
     "text": [
      "[-1, 6, 0, 5, 13, 7, 2, 6, 6, 7, 14, 10, 8, 14, 12, 12]\n",
      "[[[-0.1580114  -1.92305371]\n",
      "  [-0.1580114  -1.92305371]]\n",
      "\n",
      " [[-0.08514189 -2.50570499]\n",
      "  [-0.87785954 -0.53729228]]\n",
      "\n",
      " [[-0.15248793 -1.95594512]\n",
      "  [-1.43702211 -0.27132899]]\n",
      "\n",
      " [[-0.21637736 -1.63696999]\n",
      "  [-1.64768811 -0.21380532]]\n",
      "\n",
      " [[-0.36397099 -1.1871529 ]\n",
      "  [-2.68473667 -0.07067911]]\n",
      "\n",
      " [[-0.31299803 -1.31397873]\n",
      "  [-2.12432577 -0.12728071]]\n",
      "\n",
      " [[-0.14277343 -2.01703383]\n",
      "  [-1.12149374 -0.39421777]]\n",
      "\n",
      " [[-0.18551196 -1.77595836]\n",
      "  [-2.17196823 -0.12098541]]\n",
      "\n",
      " [[-0.04623899 -3.09696239]\n",
      "  [-1.23699809 -0.34284844]]\n",
      "\n",
      " [[-0.72476915 -0.66249458]\n",
      "  [-3.76479366 -0.02344509]]\n",
      "\n",
      " [[-0.10575824 -2.29901265]\n",
      "  [-1.02686311 -0.44336732]]\n",
      "\n",
      " [[-0.34527636 -1.23108591]\n",
      "  [-2.16320683 -0.12211779]]\n",
      "\n",
      " [[-0.09057788 -2.44649241]\n",
      "  [-1.01981627 -0.44732076]]\n",
      "\n",
      " [[-0.23140666 -1.57705179]\n",
      "  [-2.50844619 -0.08489864]]\n",
      "\n",
      " [[-0.15478766 -1.94209675]\n",
      "  [-1.47998337 -0.25830642]]\n",
      "\n",
      " [[-0.01277874 -4.36635481]\n",
      "  [-0.61243786 -0.78094694]]]\n",
      "[[0 0 0 0 1 0 0 0 0 0 1 0 0 1 1 0]\n",
      " [0 0 0 0 0 0 1 1 0 1 0 0 0 0 0 0]\n",
      " [0 1 0 1 1 0 0 0 0 1 1 1 0 1 1 0]]\n",
      "[[-8.67423054]\n",
      " [-7.98123622]]\n",
      "[[-8.67423054]\n",
      " [-7.98123622]]\n"
     ]
    }
   ],
   "source": [
    "import numpy as np\n",
    "from clt import BinaryCLT, load_dataset\n",
    "import time"
   ]
  },
  {
   "cell_type": "markdown",
   "metadata": {},
   "source": [
    "# Load Data"
   ]
  },
  {
   "cell_type": "code",
   "execution_count": 2,
   "metadata": {},
   "outputs": [],
   "source": [
    "DIR = \"nltcs\"\n",
    "train = load_dataset(DIR, \"nltcs.train.data\")\n",
    "test  = load_dataset(DIR, \"nltcs.test.data\")"
   ]
  },
  {
   "cell_type": "markdown",
   "metadata": {},
   "source": [
    "# Fit Chow-Liu Tree"
   ]
  },
  {
   "cell_type": "code",
   "execution_count": 13,
   "metadata": {},
   "outputs": [
    {
     "name": "stdout",
     "output_type": "stream",
     "text": [
      "[-1, 6, 0, 5, 13, 7, 2, 6, 6, 7, 14, 10, 8, 14, 12, 12]\n"
     ]
    }
   ],
   "source": [
    "clt = BinaryCLT(train, root=0, alpha=0.01)\n",
    "print(clt.get_tree())"
   ]
  },
  {
   "cell_type": "markdown",
   "metadata": {},
   "source": [
    "# Log CPTs"
   ]
  },
  {
   "cell_type": "code",
   "execution_count": 15,
   "metadata": {},
   "outputs": [
    {
     "name": "stdout",
     "output_type": "stream",
     "text": [
      "(16, 2, 2)\n"
     ]
    }
   ],
   "source": [
    "log_cpts = clt.get_log_params()\n",
    "print(log_cpts.shape)"
   ]
  },
  {
   "cell_type": "markdown",
   "metadata": {},
   "source": [
    "# Average log likelihoods"
   ]
  },
  {
   "cell_type": "code",
   "execution_count": 16,
   "metadata": {},
   "outputs": [
    {
     "name": "stdout",
     "output_type": "stream",
     "text": [
      "-6.76005596449873\n",
      "-6.7590743429784395\n"
     ]
    }
   ],
   "source": [
    "def mean_log_prob(model, data, exhaustive=False):\n",
    "    return model.log_prob(data, exhaustive=exhaustive).mean()\n",
    "\n",
    "print(mean_log_prob(clt, train))\n",
    "print(mean_log_prob(clt, test))"
   ]
  },
  {
   "cell_type": "markdown",
   "metadata": {},
   "source": [
    "# Efficient-vs-exhaustive sanity check"
   ]
  },
  {
   "cell_type": "code",
   "execution_count": 21,
   "metadata": {},
   "outputs": [
    {
     "name": "stdout",
     "output_type": "stream",
     "text": [
      "True\n"
     ]
    }
   ],
   "source": [
    "rng = np.random.default_rng(0)\n",
    "queries = test.copy()\n",
    "mask = rng.random(queries.shape) < 0.3\n",
    "queries[mask] = np.nan\n",
    "\n",
    "ll_fast = clt.log_prob(queries, exhaustive=False)\n",
    "ll_slow = clt.log_prob(queries, exhaustive=True)\n",
    "print(np.allclose(ll_fast, ll_slow))"
   ]
  },
  {
   "cell_type": "markdown",
   "metadata": {},
   "source": [
    "# Sampling & plausibility check"
   ]
  },
  {
   "cell_type": "code",
   "execution_count": 11,
   "metadata": {},
   "outputs": [
    {
     "name": "stdout",
     "output_type": "stream",
     "text": [
      "-6.656465523583656\n"
     ]
    }
   ],
   "source": [
    "samples = clt.sample(1000)\n",
    "print(mean_log_prob(clt, samples))"
   ]
  },
  {
   "cell_type": "markdown",
   "metadata": {},
   "source": [
    "# Runtime"
   ]
  },
  {
   "cell_type": "code",
   "execution_count": 22,
   "metadata": {},
   "outputs": [
    {
     "name": "stdout",
     "output_type": "stream",
     "text": [
      "efficient = 0.5399618148803711\n",
      "exhaustive = 0.9876770973205566\n"
     ]
    }
   ],
   "source": [
    "t0 = time.time(); _ = clt.log_prob(queries, exhaustive=False); t1 = time.time()\n",
    "t2 = time.time(); _ = clt.log_prob(queries, exhaustive=True);  t3 = time.time()\n",
    "print(\"efficient =\", t1-t0)\n",
    "print(\"exhaustive =\", t3-t2)"
   ]
  }
 ],
 "metadata": {
  "kernelspec": {
   "display_name": "venv",
   "language": "python",
   "name": "python3"
  },
  "language_info": {
   "codemirror_mode": {
    "name": "ipython",
    "version": 3
   },
   "file_extension": ".py",
   "mimetype": "text/x-python",
   "name": "python",
   "nbconvert_exporter": "python",
   "pygments_lexer": "ipython3",
   "version": "3.9.6"
  }
 },
 "nbformat": 4,
 "nbformat_minor": 2
}
