{
 "cells": [
  {
   "cell_type": "code",
   "execution_count": 7,
   "metadata": {},
   "outputs": [],
   "source": [
    "import numpy as np\n",
    "from clt import BinaryCLT, load_dataset\n",
    "import time"
   ]
  },
  {
   "cell_type": "markdown",
   "metadata": {},
   "source": [
    "# Load Data"
   ]
  },
  {
   "cell_type": "code",
   "execution_count": 8,
   "metadata": {},
   "outputs": [],
   "source": [
    "DIR = \"nltcs\"\n",
    "train = load_dataset(DIR, \"nltcs.train.data\")\n",
    "test  = load_dataset(DIR, \"nltcs.test.data\")\n",
    "marginal_queries = load_dataset(DIR, \"nltcs_marginals.data\")"
   ]
  },
  {
   "cell_type": "markdown",
   "metadata": {},
   "source": [
    "# Fit Chow-Liu Tree"
   ]
  },
  {
   "cell_type": "code",
   "execution_count": 9,
   "metadata": {},
   "outputs": [
    {
     "name": "stdout",
     "output_type": "stream",
     "text": [
      "[-1, 6, 0, 5, 13, 7, 2, 6, 6, 7, 14, 10, 8, 14, 12, 12]\n"
     ]
    }
   ],
   "source": [
    "clt = BinaryCLT(train, root=0, alpha=0.01)\n",
    "print(clt.get_tree())"
   ]
  },
  {
   "cell_type": "markdown",
   "metadata": {},
   "source": [
    "# Log CPTs"
   ]
  },
  {
   "cell_type": "code",
   "execution_count": 10,
   "metadata": {},
   "outputs": [
    {
     "name": "stdout",
     "output_type": "stream",
     "text": [
      "[[[-0.1580114  -1.92305371]\n",
      "  [-0.1580114  -1.92305371]]\n",
      "\n",
      " [[-0.08514189 -2.50570499]\n",
      "  [-0.87785954 -0.53729228]]\n",
      "\n",
      " [[-0.15248793 -1.95594512]\n",
      "  [-1.43702211 -0.27132899]]\n",
      "\n",
      " [[-0.21637736 -1.63696999]\n",
      "  [-1.64768811 -0.21380532]]\n",
      "\n",
      " [[-0.36397099 -1.1871529 ]\n",
      "  [-2.68473667 -0.07067911]]\n",
      "\n",
      " [[-0.31299803 -1.31397873]\n",
      "  [-2.12432577 -0.12728071]]\n",
      "\n",
      " [[-0.14277343 -2.01703383]\n",
      "  [-1.12149374 -0.39421777]]\n",
      "\n",
      " [[-0.18551196 -1.77595836]\n",
      "  [-2.17196823 -0.12098541]]\n",
      "\n",
      " [[-0.04623899 -3.09696239]\n",
      "  [-1.23699809 -0.34284844]]\n",
      "\n",
      " [[-0.72476915 -0.66249458]\n",
      "  [-3.76479366 -0.02344509]]\n",
      "\n",
      " [[-0.10575824 -2.29901265]\n",
      "  [-1.02686311 -0.44336732]]\n",
      "\n",
      " [[-0.34527636 -1.23108591]\n",
      "  [-2.16320683 -0.12211779]]\n",
      "\n",
      " [[-0.09057788 -2.44649241]\n",
      "  [-1.01981627 -0.44732076]]\n",
      "\n",
      " [[-0.23140666 -1.57705179]\n",
      "  [-2.50844619 -0.08489864]]\n",
      "\n",
      " [[-0.15478766 -1.94209675]\n",
      "  [-1.47998337 -0.25830642]]\n",
      "\n",
      " [[-0.01277874 -4.36635481]\n",
      "  [-0.61243786 -0.78094694]]]\n"
     ]
    }
   ],
   "source": [
    "log_cpts = clt.get_log_params()\n",
    "print(log_cpts)"
   ]
  },
  {
   "cell_type": "markdown",
   "metadata": {},
   "source": [
    "# Average log likelihoods"
   ]
  },
  {
   "cell_type": "code",
   "execution_count": 11,
   "metadata": {},
   "outputs": [
    {
     "name": "stdout",
     "output_type": "stream",
     "text": [
      "-6.76005596449873\n",
      "-6.7590743429784395\n"
     ]
    }
   ],
   "source": [
    "def mean_log_prob(model, data, exhaustive=False):\n",
    "    return model.log_prob(data, exhaustive=exhaustive).mean()\n",
    "\n",
    "print(mean_log_prob(clt, train))\n",
    "print(mean_log_prob(clt, test))"
   ]
  },
  {
   "cell_type": "markdown",
   "metadata": {},
   "source": [
    "# Efficient-vs-exhaustive sanity check"
   ]
  },
  {
   "cell_type": "code",
   "execution_count": 12,
   "metadata": {},
   "outputs": [
    {
     "name": "stdout",
     "output_type": "stream",
     "text": [
      "Fast log probabilities computed.\n"
     ]
    },
    {
     "ename": "KeyboardInterrupt",
     "evalue": "",
     "output_type": "error",
     "traceback": [
      "\u001b[0;31m---------------------------------------------------------------------------\u001b[0m",
      "\u001b[0;31mKeyboardInterrupt\u001b[0m                         Traceback (most recent call last)",
      "Cell \u001b[0;32mIn[12], line 3\u001b[0m\n\u001b[1;32m      1\u001b[0m lp_fast \u001b[38;5;241m=\u001b[39m clt\u001b[38;5;241m.\u001b[39mlog_prob(marginal_queries, exhaustive\u001b[38;5;241m=\u001b[39m\u001b[38;5;28;01mFalse\u001b[39;00m)\n\u001b[1;32m      2\u001b[0m \u001b[38;5;28mprint\u001b[39m(\u001b[38;5;124m\"\u001b[39m\u001b[38;5;124mFast log probabilities computed.\u001b[39m\u001b[38;5;124m\"\u001b[39m)\n\u001b[0;32m----> 3\u001b[0m lp_slow \u001b[38;5;241m=\u001b[39m \u001b[43mclt\u001b[49m\u001b[38;5;241;43m.\u001b[39;49m\u001b[43mlog_prob\u001b[49m\u001b[43m(\u001b[49m\u001b[43mmarginal_queries\u001b[49m\u001b[43m,\u001b[49m\u001b[43m \u001b[49m\u001b[43mexhaustive\u001b[49m\u001b[38;5;241;43m=\u001b[39;49m\u001b[38;5;28;43;01mTrue\u001b[39;49;00m\u001b[43m)\u001b[49m\n\u001b[1;32m      5\u001b[0m \u001b[38;5;66;03m# 4. Compare\u001b[39;00m\n\u001b[1;32m      6\u001b[0m \u001b[38;5;28mprint\u001b[39m(\u001b[38;5;124m\"\u001b[39m\u001b[38;5;124mFirst 10 fast LPs:\u001b[39m\u001b[38;5;124m\"\u001b[39m, lp_fast[:\u001b[38;5;241m10\u001b[39m]\u001b[38;5;241m.\u001b[39mflatten())\n",
      "File \u001b[0;32m~/Documents/Documents - Vic’s MacBook Air/Education/Courses/2AMU20 - Generative AI Models/homework assignments/2/hw2-genai/clt.py:148\u001b[0m, in \u001b[0;36mBinaryCLT.log_prob\u001b[0;34m(self, x, exhaustive)\u001b[0m\n\u001b[1;32m    146\u001b[0m \u001b[38;5;28;01mfor\u001b[39;00m j \u001b[38;5;129;01min\u001b[39;00m \u001b[38;5;28mrange\u001b[39m(\u001b[38;5;241m2\u001b[39m \u001b[38;5;241m*\u001b[39m\u001b[38;5;241m*\u001b[39m \u001b[38;5;28mself\u001b[39m\u001b[38;5;241m.\u001b[39mD):\n\u001b[1;32m    147\u001b[0m     \u001b[38;5;28;01mfor\u001b[39;00m k \u001b[38;5;129;01min\u001b[39;00m to_sum:\n\u001b[0;32m--> 148\u001b[0m         \u001b[38;5;28;01mif\u001b[39;00m \u001b[43mnp\u001b[49m\u001b[38;5;241;43m.\u001b[39;49m\u001b[43marray_equal\u001b[49m\u001b[43m(\u001b[49m\u001b[43mjoint_distrib\u001b[49m\u001b[43m[\u001b[49m\u001b[43mj\u001b[49m\u001b[43m,\u001b[49m\u001b[43m \u001b[49m\u001b[43m:\u001b[49m\u001b[38;5;241;43m-\u001b[39;49m\u001b[38;5;241;43m1\u001b[39;49m\u001b[43m]\u001b[49m\u001b[43m,\u001b[49m\u001b[43m \u001b[49m\u001b[43mk\u001b[49m\u001b[43m)\u001b[49m:\n\u001b[1;32m    149\u001b[0m             factors\u001b[38;5;241m.\u001b[39mappend(joint_distrib[j, \u001b[38;5;241m-\u001b[39m\u001b[38;5;241m1\u001b[39m])\n\u001b[1;32m    150\u001b[0m lg[i] \u001b[38;5;241m=\u001b[39m logsumexp(factors)\n",
      "File \u001b[0;32m~/Documents/Documents - Vic’s MacBook Air/Education/Courses/2AMU20 - Generative AI Models/homework assignments/2/hw2-genai/venv/lib/python3.9/site-packages/numpy/_core/numeric.py:2506\u001b[0m, in \u001b[0;36marray_equal\u001b[0;34m(a1, a2, equal_nan)\u001b[0m\n\u001b[1;32m   2504\u001b[0m     \u001b[38;5;28;01mreturn\u001b[39;00m \u001b[38;5;28;01mFalse\u001b[39;00m\n\u001b[1;32m   2505\u001b[0m \u001b[38;5;28;01mif\u001b[39;00m \u001b[38;5;129;01mnot\u001b[39;00m equal_nan:\n\u001b[0;32m-> 2506\u001b[0m     \u001b[38;5;28;01mreturn\u001b[39;00m builtins\u001b[38;5;241m.\u001b[39mbool(\u001b[43m(\u001b[49m\u001b[43masanyarray\u001b[49m\u001b[43m(\u001b[49m\u001b[43ma1\u001b[49m\u001b[43m \u001b[49m\u001b[38;5;241;43m==\u001b[39;49m\u001b[43m \u001b[49m\u001b[43ma2\u001b[49m\u001b[43m)\u001b[49m\u001b[43m)\u001b[49m\u001b[38;5;241;43m.\u001b[39;49m\u001b[43mall\u001b[49m\u001b[43m(\u001b[49m\u001b[43m)\u001b[49m)\n\u001b[1;32m   2508\u001b[0m \u001b[38;5;28;01mif\u001b[39;00m a1 \u001b[38;5;129;01mis\u001b[39;00m a2:\n\u001b[1;32m   2509\u001b[0m     \u001b[38;5;66;03m# nan will compare equal so an array will compare equal to itself.\u001b[39;00m\n\u001b[1;32m   2510\u001b[0m     \u001b[38;5;28;01mreturn\u001b[39;00m \u001b[38;5;28;01mTrue\u001b[39;00m\n",
      "File \u001b[0;32m~/Documents/Documents - Vic’s MacBook Air/Education/Courses/2AMU20 - Generative AI Models/homework assignments/2/hw2-genai/venv/lib/python3.9/site-packages/numpy/_core/_methods.py:73\u001b[0m, in \u001b[0;36m_all\u001b[0;34m(a, axis, dtype, out, keepdims, where)\u001b[0m\n\u001b[1;32m     71\u001b[0m \u001b[38;5;66;03m# Parsing keyword arguments is currently fairly slow, so avoid it for now\u001b[39;00m\n\u001b[1;32m     72\u001b[0m \u001b[38;5;28;01mif\u001b[39;00m where \u001b[38;5;129;01mis\u001b[39;00m \u001b[38;5;28;01mTrue\u001b[39;00m:\n\u001b[0;32m---> 73\u001b[0m     \u001b[38;5;28;01mreturn\u001b[39;00m \u001b[43mumr_all\u001b[49m\u001b[43m(\u001b[49m\u001b[43ma\u001b[49m\u001b[43m,\u001b[49m\u001b[43m \u001b[49m\u001b[43maxis\u001b[49m\u001b[43m,\u001b[49m\u001b[43m \u001b[49m\u001b[43mdtype\u001b[49m\u001b[43m,\u001b[49m\u001b[43m \u001b[49m\u001b[43mout\u001b[49m\u001b[43m,\u001b[49m\u001b[43m \u001b[49m\u001b[43mkeepdims\u001b[49m\u001b[43m)\u001b[49m\n\u001b[1;32m     74\u001b[0m \u001b[38;5;28;01mreturn\u001b[39;00m umr_all(a, axis, dtype, out, keepdims, where\u001b[38;5;241m=\u001b[39mwhere)\n",
      "\u001b[0;31mKeyboardInterrupt\u001b[0m: "
     ]
    }
   ],
   "source": [
    "lp_fast = clt.log_prob(marginal_queries, exhaustive=False)\n",
    "lp_slow = clt.log_prob(marginal_queries, exhaustive=True)\n",
    "\n",
    "print(np.allclose(lp_fast, lp_slow))"
   ]
  },
  {
   "cell_type": "markdown",
   "metadata": {},
   "source": [
    "# Sampling & plausibility check"
   ]
  },
  {
   "cell_type": "code",
   "execution_count": null,
   "metadata": {},
   "outputs": [],
   "source": [
    "samples = clt.sample(1000)\n",
    "print(mean_log_prob(clt, samples))"
   ]
  },
  {
   "cell_type": "markdown",
   "metadata": {},
   "source": [
    "# Runtime"
   ]
  },
  {
   "cell_type": "code",
   "execution_count": null,
   "metadata": {},
   "outputs": [],
   "source": [
    "t0 = time.time(); _ = clt.log_prob(marginal_queries, exhaustive=False); t1 = time.time()\n",
    "t2 = time.time(); _ = clt.log_prob(marginal_queries, exhaustive=True);  t3 = time.time()\n",
    "print(\"efficient =\", t1-t0)\n",
    "print(\"exhaustive =\", t3-t2)"
   ]
  }
 ],
 "metadata": {
  "kernelspec": {
   "display_name": "venv",
   "language": "python",
   "name": "python3"
  },
  "language_info": {
   "codemirror_mode": {
    "name": "ipython",
    "version": 3
   },
   "file_extension": ".py",
   "mimetype": "text/x-python",
   "name": "python",
   "nbconvert_exporter": "python",
   "pygments_lexer": "ipython3",
   "version": "3.9.6"
  }
 },
 "nbformat": 4,
 "nbformat_minor": 2
}
